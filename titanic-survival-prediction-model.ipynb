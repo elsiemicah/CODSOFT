{
 "cells": [
  {
   "cell_type": "code",
   "execution_count": 1,
   "id": "2c32b44a",
   "metadata": {
    "execution": {
     "iopub.execute_input": "2024-05-11T11:45:36.213619Z",
     "iopub.status.busy": "2024-05-11T11:45:36.213165Z",
     "iopub.status.idle": "2024-05-11T11:45:39.673803Z",
     "shell.execute_reply": "2024-05-11T11:45:39.672312Z"
    },
    "papermill": {
     "duration": 3.473574,
     "end_time": "2024-05-11T11:45:39.677470",
     "exception": false,
     "start_time": "2024-05-11T11:45:36.203896",
     "status": "completed"
    },
    "tags": []
   },
   "outputs": [],
   "source": [
    "#Importing necessary libraries\n",
    "import pandas as pd\n",
    "import seaborn as sns\n",
    "from sklearn.model_selection import train_test_split\n",
    "from sklearn.preprocessing import OneHotEncoder\n",
    "from sklearn.ensemble import RandomForestClassifier\n",
    "from sklearn.impute import SimpleImputer \n",
    "import matplotlib.pyplot as plt\n",
    "from sklearn.metrics import accuracy_score, classification_report"
   ]
  },
  {
   "cell_type": "code",
   "execution_count": 2,
   "id": "18c3f57e",
   "metadata": {
    "execution": {
     "iopub.execute_input": "2024-05-11T11:45:39.693264Z",
     "iopub.status.busy": "2024-05-11T11:45:39.692535Z",
     "iopub.status.idle": "2024-05-11T11:45:39.725032Z",
     "shell.execute_reply": "2024-05-11T11:45:39.723331Z"
    },
    "papermill": {
     "duration": 0.043751,
     "end_time": "2024-05-11T11:45:39.728086",
     "exception": false,
     "start_time": "2024-05-11T11:45:39.684335",
     "status": "completed"
    },
    "tags": []
   },
   "outputs": [],
   "source": [
    "titanic_data = pd.read_csv('/kaggle/input/titanic-dataset/Titanic-Dataset.csv')"
   ]
  },
  {
   "cell_type": "markdown",
   "id": "2db3fdf0",
   "metadata": {
    "papermill": {
     "duration": 0.006078,
     "end_time": "2024-05-11T11:45:39.740477",
     "exception": false,
     "start_time": "2024-05-11T11:45:39.734399",
     "status": "completed"
    },
    "tags": []
   },
   "source": [
    "**Displaying first few rows of the dataset**"
   ]
  },
  {
   "cell_type": "code",
   "execution_count": 3,
   "id": "a051f232",
   "metadata": {
    "execution": {
     "iopub.execute_input": "2024-05-11T11:45:39.756249Z",
     "iopub.status.busy": "2024-05-11T11:45:39.755773Z",
     "iopub.status.idle": "2024-05-11T11:45:39.780839Z",
     "shell.execute_reply": "2024-05-11T11:45:39.778521Z"
    },
    "papermill": {
     "duration": 0.036056,
     "end_time": "2024-05-11T11:45:39.783886",
     "exception": false,
     "start_time": "2024-05-11T11:45:39.747830",
     "status": "completed"
    },
    "tags": []
   },
   "outputs": [
    {
     "name": "stdout",
     "output_type": "stream",
     "text": [
      "   PassengerId  Survived  Pclass  \\\n",
      "0            1         0       3   \n",
      "1            2         1       1   \n",
      "2            3         1       3   \n",
      "3            4         1       1   \n",
      "4            5         0       3   \n",
      "\n",
      "                                                Name     Sex   Age  SibSp  \\\n",
      "0                            Braund, Mr. Owen Harris    male  22.0      1   \n",
      "1  Cumings, Mrs. John Bradley (Florence Briggs Th...  female  38.0      1   \n",
      "2                             Heikkinen, Miss. Laina  female  26.0      0   \n",
      "3       Futrelle, Mrs. Jacques Heath (Lily May Peel)  female  35.0      1   \n",
      "4                           Allen, Mr. William Henry    male  35.0      0   \n",
      "\n",
      "   Parch            Ticket     Fare Cabin Embarked  \n",
      "0      0         A/5 21171   7.2500   NaN        S  \n",
      "1      0          PC 17599  71.2833   C85        C  \n",
      "2      0  STON/O2. 3101282   7.9250   NaN        S  \n",
      "3      0            113803  53.1000  C123        S  \n",
      "4      0            373450   8.0500   NaN        S  \n"
     ]
    }
   ],
   "source": [
    "#Exploring the Data\n",
    "print(titanic_data.head())\n"
   ]
  },
  {
   "cell_type": "markdown",
   "id": "58987ff7",
   "metadata": {
    "papermill": {
     "duration": 0.006206,
     "end_time": "2024-05-11T11:45:39.796534",
     "exception": false,
     "start_time": "2024-05-11T11:45:39.790328",
     "status": "completed"
    },
    "tags": []
   },
   "source": [
    "**Exploring Dataset**"
   ]
  },
  {
   "cell_type": "code",
   "execution_count": 4,
   "id": "2c5ac521",
   "metadata": {
    "execution": {
     "iopub.execute_input": "2024-05-11T11:45:39.812700Z",
     "iopub.status.busy": "2024-05-11T11:45:39.811211Z",
     "iopub.status.idle": "2024-05-11T11:45:39.839999Z",
     "shell.execute_reply": "2024-05-11T11:45:39.839085Z"
    },
    "papermill": {
     "duration": 0.039699,
     "end_time": "2024-05-11T11:45:39.842707",
     "exception": false,
     "start_time": "2024-05-11T11:45:39.803008",
     "status": "completed"
    },
    "tags": []
   },
   "outputs": [
    {
     "name": "stdout",
     "output_type": "stream",
     "text": [
      "<class 'pandas.core.frame.DataFrame'>\n",
      "RangeIndex: 891 entries, 0 to 890\n",
      "Data columns (total 12 columns):\n",
      " #   Column       Non-Null Count  Dtype  \n",
      "---  ------       --------------  -----  \n",
      " 0   PassengerId  891 non-null    int64  \n",
      " 1   Survived     891 non-null    int64  \n",
      " 2   Pclass       891 non-null    int64  \n",
      " 3   Name         891 non-null    object \n",
      " 4   Sex          891 non-null    object \n",
      " 5   Age          714 non-null    float64\n",
      " 6   SibSp        891 non-null    int64  \n",
      " 7   Parch        891 non-null    int64  \n",
      " 8   Ticket       891 non-null    object \n",
      " 9   Fare         891 non-null    float64\n",
      " 10  Cabin        204 non-null    object \n",
      " 11  Embarked     889 non-null    object \n",
      "dtypes: float64(2), int64(5), object(5)\n",
      "memory usage: 83.7+ KB\n",
      "None\n"
     ]
    }
   ],
   "source": [
    "print(titanic_data.info())"
   ]
  },
  {
   "cell_type": "code",
   "execution_count": 5,
   "id": "e63e0bdc",
   "metadata": {
    "execution": {
     "iopub.execute_input": "2024-05-11T11:45:39.858420Z",
     "iopub.status.busy": "2024-05-11T11:45:39.857954Z",
     "iopub.status.idle": "2024-05-11T11:45:39.865418Z",
     "shell.execute_reply": "2024-05-11T11:45:39.864519Z"
    },
    "papermill": {
     "duration": 0.018357,
     "end_time": "2024-05-11T11:45:39.867818",
     "exception": false,
     "start_time": "2024-05-11T11:45:39.849461",
     "status": "completed"
    },
    "tags": []
   },
   "outputs": [
    {
     "name": "stdout",
     "output_type": "stream",
     "text": [
      "PassengerId      int64\n",
      "Survived         int64\n",
      "Pclass           int64\n",
      "Name            object\n",
      "Sex             object\n",
      "Age            float64\n",
      "SibSp            int64\n",
      "Parch            int64\n",
      "Ticket          object\n",
      "Fare           float64\n",
      "Cabin           object\n",
      "Embarked        object\n",
      "dtype: object\n"
     ]
    }
   ],
   "source": [
    "# Check the data types of each column\n",
    "print(titanic_data.dtypes)\n"
   ]
  },
  {
   "cell_type": "markdown",
   "id": "56c141e7",
   "metadata": {
    "papermill": {
     "duration": 0.007388,
     "end_time": "2024-05-11T11:45:39.882061",
     "exception": false,
     "start_time": "2024-05-11T11:45:39.874673",
     "status": "completed"
    },
    "tags": []
   },
   "source": [
    "**Preprocessing the Data**"
   ]
  },
  {
   "cell_type": "code",
   "execution_count": 6,
   "id": "cadb35c6",
   "metadata": {
    "execution": {
     "iopub.execute_input": "2024-05-11T11:45:39.899938Z",
     "iopub.status.busy": "2024-05-11T11:45:39.899481Z",
     "iopub.status.idle": "2024-05-11T11:45:39.927272Z",
     "shell.execute_reply": "2024-05-11T11:45:39.925902Z"
    },
    "papermill": {
     "duration": 0.04002,
     "end_time": "2024-05-11T11:45:39.930528",
     "exception": false,
     "start_time": "2024-05-11T11:45:39.890508",
     "status": "completed"
    },
    "tags": []
   },
   "outputs": [],
   "source": [
    "# Check for columns with non-numeric values\n",
    "non_numeric_columns = titanic_data.select_dtypes(exclude=['int', 'float']).columns\n",
    "\n",
    "# Perform one-hot encoding for categorical variables\n",
    "titanic_data = pd.get_dummies(titanic_data, columns=non_numeric_columns)\n"
   ]
  },
  {
   "cell_type": "code",
   "execution_count": 7,
   "id": "060cc221",
   "metadata": {
    "execution": {
     "iopub.execute_input": "2024-05-11T11:45:39.947260Z",
     "iopub.status.busy": "2024-05-11T11:45:39.946043Z",
     "iopub.status.idle": "2024-05-11T11:45:39.974661Z",
     "shell.execute_reply": "2024-05-11T11:45:39.973714Z"
    },
    "papermill": {
     "duration": 0.040001,
     "end_time": "2024-05-11T11:45:39.977504",
     "exception": false,
     "start_time": "2024-05-11T11:45:39.937503",
     "status": "completed"
    },
    "tags": []
   },
   "outputs": [
    {
     "name": "stdout",
     "output_type": "stream",
     "text": [
      "       PassengerId    Survived      Pclass         Age       SibSp  \\\n",
      "count   891.000000  891.000000  891.000000  714.000000  891.000000   \n",
      "mean    446.000000    0.383838    2.308642   29.699118    0.523008   \n",
      "std     257.353842    0.486592    0.836071   14.526497    1.102743   \n",
      "min       1.000000    0.000000    1.000000    0.420000    0.000000   \n",
      "25%     223.500000    0.000000    2.000000   20.125000    0.000000   \n",
      "50%     446.000000    0.000000    3.000000   28.000000    0.000000   \n",
      "75%     668.500000    1.000000    3.000000   38.000000    1.000000   \n",
      "max     891.000000    1.000000    3.000000   80.000000    8.000000   \n",
      "\n",
      "            Parch        Fare  \n",
      "count  891.000000  891.000000  \n",
      "mean     0.381594   32.204208  \n",
      "std      0.806057   49.693429  \n",
      "min      0.000000    0.000000  \n",
      "25%      0.000000    7.910400  \n",
      "50%      0.000000   14.454200  \n",
      "75%      0.000000   31.000000  \n",
      "max      6.000000  512.329200  \n"
     ]
    }
   ],
   "source": [
    "# Get summary statistics \n",
    "print(titanic_data.describe())\n"
   ]
  },
  {
   "cell_type": "markdown",
   "id": "e31db16d",
   "metadata": {
    "papermill": {
     "duration": 0.006736,
     "end_time": "2024-05-11T11:45:39.991137",
     "exception": false,
     "start_time": "2024-05-11T11:45:39.984401",
     "status": "completed"
    },
    "tags": []
   },
   "source": [
    "**Visualization**"
   ]
  },
  {
   "cell_type": "code",
   "execution_count": 8,
   "id": "87a91131",
   "metadata": {
    "execution": {
     "iopub.execute_input": "2024-05-11T11:45:40.009007Z",
     "iopub.status.busy": "2024-05-11T11:45:40.008403Z",
     "iopub.status.idle": "2024-05-11T11:45:40.585362Z",
     "shell.execute_reply": "2024-05-11T11:45:40.584320Z"
    },
    "papermill": {
     "duration": 0.589199,
     "end_time": "2024-05-11T11:45:40.587886",
     "exception": false,
     "start_time": "2024-05-11T11:45:39.998687",
     "status": "completed"
    },
    "tags": []
   },
   "outputs": [
    {
     "data": {
      "image/png": "[encoded data removed]",
      "text/plain": [
       "<Figure size 800x600 with 2 Axes>"
      ]
     },
     "metadata": {},
     "output_type": "display_data"
    }
   ],
   "source": [
    "passenger_names = ['John', 'Alice', 'Bob', 'Emma', 'Michael']\n",
    "survival_probabilities = [0.8, 0.6, 0.2, 0.9, 0.5]\n",
    "survived = [True, True, False, True, False]\n",
    "\n",
    "# Create scatter plot\n",
    "plt.figure(figsize=(8, 6))\n",
    "plt.scatter(passenger_names, survival_probabilities, c=survived, cmap='coolwarm', s=100, alpha=0.8)\n",
    "plt.title('Survival Probabilities of Titanic Passengers')\n",
    "plt.xlabel('Passenger Names')\n",
    "plt.ylabel('Survival Probability')\n",
    "plt.xticks(rotation=45)\n",
    "plt.colorbar(label='Survived')\n",
    "plt.grid(True)\n",
    "plt.tight_layout()\n",
    "\n",
    "# Show plot\n",
    "plt.show()"
   ]
  },
  {
   "cell_type": "code",
   "execution_count": 9,
   "id": "84b24a7c",
   "metadata": {
    "execution": {
     "iopub.execute_input": "2024-05-11T11:45:40.608548Z",
     "iopub.status.busy": "2024-05-11T11:45:40.607482Z",
     "iopub.status.idle": "2024-05-11T11:45:40.887305Z",
     "shell.execute_reply": "2024-05-11T11:45:40.885144Z"
    },
    "papermill": {
     "duration": 0.297171,
     "end_time": "2024-05-11T11:45:40.893196",
     "exception": false,
     "start_time": "2024-05-11T11:45:40.596025",
     "status": "completed"
    },
    "tags": []
   },
   "outputs": [
    {
     "data": {
      "image/png": "[encoded data removed]",
      "text/plain": [
       "<Figure size 640x480 with 1 Axes>"
      ]
     },
     "metadata": {},
     "output_type": "display_data"
    }
   ],
   "source": [
    "#Create pie chart\n",
    "plt.subplot(1, 2, 2)\n",
    "labels = ['Survived', 'Not Survived']\n",
    "sizes = [sum(survived), len(survived) - sum(survived)]\n",
    "colors = ['lightgreen', 'lightcoral']\n",
    "explode = (0.1, 0)\n",
    "plt.pie(sizes, explode=explode, labels=labels, colors=colors, autopct='%1.1f%%', shadow=True, startangle=140)\n",
    "plt.title('Survival Percentage')\n",
    "plt.axis('equal')\n",
    "\n",
    "plt.tight_layout()"
   ]
  },
  {
   "cell_type": "code",
   "execution_count": 10,
   "id": "9646d597",
   "metadata": {
    "execution": {
     "iopub.execute_input": "2024-05-11T11:45:40.933098Z",
     "iopub.status.busy": "2024-05-11T11:45:40.931036Z",
     "iopub.status.idle": "2024-05-11T11:45:40.951560Z",
     "shell.execute_reply": "2024-05-11T11:45:40.950190Z"
    },
    "papermill": {
     "duration": 0.043365,
     "end_time": "2024-05-11T11:45:40.954701",
     "exception": false,
     "start_time": "2024-05-11T11:45:40.911336",
     "status": "completed"
    },
    "tags": []
   },
   "outputs": [],
   "source": [
    "\n",
    "# Spliting and training the dataset \n",
    "X = titanic_data.drop('Survived', axis=1)  \n",
    "y = titanic_data['Survived']  \n",
    "\n",
    "# Split the dataset into training and testing sets\n",
    "X_train, X_test, y_train, y_test = train_test_split(X, y, test_size=0.2, random_state=42)"
   ]
  },
  {
   "cell_type": "markdown",
   "id": "8f46bdc1",
   "metadata": {
    "papermill": {
     "duration": 0.008374,
     "end_time": "2024-05-11T11:45:40.973264",
     "exception": false,
     "start_time": "2024-05-11T11:45:40.964890",
     "status": "completed"
    },
    "tags": []
   },
   "source": [
    "**Choosing a model**"
   ]
  },
  {
   "cell_type": "code",
   "execution_count": 11,
   "id": "99bc98a0",
   "metadata": {
    "execution": {
     "iopub.execute_input": "2024-05-11T11:45:40.997701Z",
     "iopub.status.busy": "2024-05-11T11:45:40.996924Z",
     "iopub.status.idle": "2024-05-11T11:45:42.006327Z",
     "shell.execute_reply": "2024-05-11T11:45:42.005062Z"
    },
    "papermill": {
     "duration": 1.024675,
     "end_time": "2024-05-11T11:45:42.009586",
     "exception": false,
     "start_time": "2024-05-11T11:45:40.984911",
     "status": "completed"
    },
    "tags": []
   },
   "outputs": [
    {
     "data": {
      "text/html": [
       "<style>#sk-container-id-1 {color: black;background-color: white;}#sk-container-id-1 pre{padding: 0;}#sk-container-id-1 div.sk-toggleable {background-color: white;}#sk-container-id-1 label.sk-toggleable__label {cursor: pointer;display: block;width: 100%;margin-bottom: 0;padding: 0.3em;box-sizing: border-box;text-align: center;}#sk-container-id-1 label.sk-toggleable__label-arrow:before {content: \"▸\";float: left;margin-right: 0.25em;color: #696969;}#sk-container-id-1 label.sk-toggleable__label-arrow:hover:before {color: black;}#sk-container-id-1 div.sk-estimator:hover label.sk-toggleable__label-arrow:before {color: black;}#sk-container-id-1 div.sk-toggleable__content {max-height: 0;max-width: 0;overflow: hidden;text-align: left;background-color: #f0f8ff;}#sk-container-id-1 div.sk-toggleable__content pre {margin: 0.2em;color: black;border-radius: 0.25em;background-color: #f0f8ff;}#sk-container-id-1 input.sk-toggleable__control:checked~div.sk-toggleable__content {max-height: 200px;max-width: 100%;overflow: auto;}#sk-container-id-1 input.sk-toggleable__control:checked~label.sk-toggleable__label-arrow:before {content: \"▾\";}#sk-container-id-1 div.sk-estimator input.sk-toggleable__control:checked~label.sk-toggleable__label {background-color: #d4ebff;}#sk-container-id-1 div.sk-label input.sk-toggleable__control:checked~label.sk-toggleable__label {background-color: #d4ebff;}#sk-container-id-1 input.sk-hidden--visually {border: 0;clip: rect(1px 1px 1px 1px);clip: rect(1px, 1px, 1px, 1px);height: 1px;margin: -1px;overflow: hidden;padding: 0;position: absolute;width: 1px;}#sk-container-id-1 div.sk-estimator {font-family: monospace;background-color: #f0f8ff;border: 1px dotted black;border-radius: 0.25em;box-sizing: border-box;margin-bottom: 0.5em;}#sk-container-id-1 div.sk-estimator:hover {background-color: #d4ebff;}#sk-container-id-1 div.sk-parallel-item::after {content: \"\";width: 100%;border-bottom: 1px solid gray;flex-grow: 1;}#sk-container-id-1 div.sk-label:hover label.sk-toggleable__label {background-color: #d4ebff;}#sk-container-id-1 div.sk-serial::before {content: \"\";position: absolute;border-left: 1px solid gray;box-sizing: border-box;top: 0;bottom: 0;left: 50%;z-index: 0;}#sk-container-id-1 div.sk-serial {display: flex;flex-direction: column;align-items: center;background-color: white;padding-right: 0.2em;padding-left: 0.2em;position: relative;}#sk-container-id-1 div.sk-item {position: relative;z-index: 1;}#sk-container-id-1 div.sk-parallel {display: flex;align-items: stretch;justify-content: center;background-color: white;position: relative;}#sk-container-id-1 div.sk-item::before, #sk-container-id-1 div.sk-parallel-item::before {content: \"\";position: absolute;border-left: 1px solid gray;box-sizing: border-box;top: 0;bottom: 0;left: 50%;z-index: -1;}#sk-container-id-1 div.sk-parallel-item {display: flex;flex-direction: column;z-index: 1;position: relative;background-color: white;}#sk-container-id-1 div.sk-parallel-item:first-child::after {align-self: flex-end;width: 50%;}#sk-container-id-1 div.sk-parallel-item:last-child::after {align-self: flex-start;width: 50%;}#sk-container-id-1 div.sk-parallel-item:only-child::after {width: 0;}#sk-container-id-1 div.sk-dashed-wrapped {border: 1px dashed gray;margin: 0 0.4em 0.5em 0.4em;box-sizing: border-box;padding-bottom: 0.4em;background-color: white;}#sk-container-id-1 div.sk-label label {font-family: monospace;font-weight: bold;display: inline-block;line-height: 1.2em;}#sk-container-id-1 div.sk-label-container {text-align: center;}#sk-container-id-1 div.sk-container {/* jupyter's `normalize.less` sets `[hidden] { display: none; }` but bootstrap.min.css set `[hidden] { display: none !important; }` so we also need the `!important` here to be able to override the default hidden behavior on the sphinx rendered scikit-learn.org. See: https://github.com/scikit-learn/scikit-learn/issues/21755 */display: inline-block !important;position: relative;}#sk-container-id-1 div.sk-text-repr-fallback {display: none;}</style><div id=\"sk-container-id-1\" class=\"sk-top-container\"><div class=\"sk-text-repr-fallback\"><pre>RandomForestClassifier(random_state=42)</pre><b>In a Jupyter environment, please rerun this cell to show the HTML representation or trust the notebook. <br />On GitHub, the HTML representation is unable to render, please try loading this page with nbviewer.org.</b></div><div class=\"sk-container\" hidden><div class=\"sk-item\"><div class=\"sk-estimator sk-toggleable\"><input class=\"sk-toggleable__control sk-hidden--visually\" id=\"sk-estimator-id-1\" type=\"checkbox\" checked><label for=\"sk-estimator-id-1\" class=\"sk-toggleable__label sk-toggleable__label-arrow\">RandomForestClassifier</label><div class=\"sk-toggleable__content\"><pre>RandomForestClassifier(random_state=42)</pre></div></div></div></div></div>"
      ],
      "text/plain": [
       "RandomForestClassifier(random_state=42)"
      ]
     },
     "execution_count": 11,
     "metadata": {},
     "output_type": "execute_result"
    }
   ],
   "source": [
    "imputer = SimpleImputer(strategy='mean')\n",
    "X_train_imputed = imputer.fit_transform(X_train)\n",
    "X_test_imputed = imputer.transform(X_test)\n",
    "\n",
    "# Train the Random Forest classifier\n",
    "rf_classifier = RandomForestClassifier(n_estimators=100, random_state=42)\n",
    "rf_classifier.fit(X_train_imputed, y_train)\n"
   ]
  },
  {
   "cell_type": "markdown",
   "id": "a00164d4",
   "metadata": {
    "papermill": {
     "duration": 0.009613,
     "end_time": "2024-05-11T11:45:42.028020",
     "exception": false,
     "start_time": "2024-05-11T11:45:42.018407",
     "status": "completed"
    },
    "tags": []
   },
   "source": [
    "**Predictions**"
   ]
  },
  {
   "cell_type": "code",
   "execution_count": 12,
   "id": "967528b6",
   "metadata": {
    "execution": {
     "iopub.execute_input": "2024-05-11T11:45:42.048285Z",
     "iopub.status.busy": "2024-05-11T11:45:42.047760Z",
     "iopub.status.idle": "2024-05-11T11:45:42.082645Z",
     "shell.execute_reply": "2024-05-11T11:45:42.081272Z"
    },
    "papermill": {
     "duration": 0.048531,
     "end_time": "2024-05-11T11:45:42.086239",
     "exception": false,
     "start_time": "2024-05-11T11:45:42.037708",
     "status": "completed"
    },
    "tags": []
   },
   "outputs": [
    {
     "name": "stdout",
     "output_type": "stream",
     "text": [
      "Accuracy: 0.8156424581005587\n",
      "              precision    recall  f1-score   support\n",
      "\n",
      "           0       0.82      0.89      0.85       105\n",
      "           1       0.82      0.72      0.76        74\n",
      "\n",
      "    accuracy                           0.82       179\n",
      "   macro avg       0.82      0.80      0.81       179\n",
      "weighted avg       0.82      0.82      0.81       179\n",
      "\n"
     ]
    }
   ],
   "source": [
    "# Make predictions\n",
    "y_pred = rf_classifier.predict(X_test_imputed)\n",
    "\n",
    "# Evaluate the model\n",
    "accuracy = accuracy_score(y_test, y_pred)\n",
    "print(\"Accuracy:\", accuracy)\n",
    "\n",
    "# Print classification report for detailed evaluation\n",
    "print(classification_report(y_test, y_pred))"
   ]
  }
 ],
 "metadata": {
  "kaggle": {
   "accelerator": "none",
   "dataSources": [
    {
     "datasetId": 1818188,
     "sourceId": 2965537,
     "sourceType": "datasetVersion"
    }
   ],
   "dockerImageVersionId": 30698,
   "isGpuEnabled": false,
   "isInternetEnabled": true,
   "language": "python",
   "sourceType": "notebook"
  },
  "kernelspec": {
   "display_name": "Python 3",
   "language": "python",
   "name": "python3"
  },
  "language_info": {
   "codemirror_mode": {
    "name": "ipython",
    "version": 3
   },
   "file_extension": ".py",
   "mimetype": "text/x-python",
   "name": "python",
   "nbconvert_exporter": "python",
   "pygments_lexer": "ipython3",
   "version": "3.10.13"
  },
  "papermill": {
   "default_parameters": {},
   "duration": 10.10323,
   "end_time": "2024-05-11T11:45:42.820169",
   "environment_variables": {},
   "exception": null,
   "input_path": "__notebook__.ipynb",
   "output_path": "__notebook__.ipynb",
   "parameters": {},
   "start_time": "2024-05-11T11:45:32.716939",
   "version": "2.5.0"
  }
 },
 "nbformat": 4,
 "nbformat_minor": 5
}
